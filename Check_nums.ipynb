{
 "cells": [
  {
   "cell_type": "markdown",
   "id": "2b5b42f4",
   "metadata": {},
   "source": [
    "# Have the function CheckNums(num1,num2) take both parameters being passed and return the string true if num2 is greater than num1, otherwise return the string false. If the parameter values are equal to each other then return the string -1."
   ]
  },
  {
   "cell_type": "code",
   "execution_count": 1,
   "id": "5e637501",
   "metadata": {},
   "outputs": [
    {
     "name": "stdout",
     "output_type": "stream",
     "text": [
      "true\n",
      "false\n",
      "-1\n"
     ]
    }
   ],
   "source": [
    "def CheckNums(num1, num2):\n",
    "    # Check if num2 is greater than num1\n",
    "    if num2 > num1:\n",
    "        return \"true\"\n",
    "    # Check if num2 is less than num1\n",
    "    elif num2 < num1:\n",
    "        return \"false\"\n",
    "    # If both are equal\n",
    "    else:\n",
    "        return \"-1\"\n",
    "\n",
    "# Example usage\n",
    "print(CheckNums(3, 5))  \n",
    "print(CheckNums(10, 7)) \n",
    "print(CheckNums(4, 4))"
   ]
  },
  {
   "cell_type": "code",
   "execution_count": null,
   "id": "a8809cae",
   "metadata": {},
   "outputs": [],
   "source": []
  }
 ],
 "metadata": {
  "kernelspec": {
   "display_name": "Python 3 (ipykernel)",
   "language": "python",
   "name": "python3"
  },
  "language_info": {
   "codemirror_mode": {
    "name": "ipython",
    "version": 3
   },
   "file_extension": ".py",
   "mimetype": "text/x-python",
   "name": "python",
   "nbconvert_exporter": "python",
   "pygments_lexer": "ipython3",
   "version": "3.10.9"
  }
 },
 "nbformat": 4,
 "nbformat_minor": 5
}
